{
  "cells": [
    {
      "cell_type": "markdown",
      "metadata": {
        "id": "MkU2KICUu_To"
      },
      "source": [
        "# Importação / Função"
      ]
    },
    {
      "cell_type": "code",
      "source": [
        "!pip install scikit-optimize"
      ],
      "metadata": {
        "colab": {
          "base_uri": "https://localhost:8080/"
        },
        "id": "urBtnqgbBLyK",
        "outputId": "b8a2887d-eb91-4fb7-ebfd-1d8c54d43950"
      },
      "execution_count": 1,
      "outputs": [
        {
          "output_type": "stream",
          "name": "stdout",
          "text": [
            "Looking in indexes: https://pypi.org/simple, https://us-python.pkg.dev/colab-wheels/public/simple/\n",
            "Collecting scikit-optimize\n",
            "  Downloading scikit_optimize-0.9.0-py2.py3-none-any.whl (100 kB)\n",
            "\u001b[K     |████████████████████████████████| 100 kB 4.0 MB/s \n",
            "\u001b[?25hRequirement already satisfied: numpy>=1.13.3 in /usr/local/lib/python3.7/dist-packages (from scikit-optimize) (1.21.6)\n",
            "Requirement already satisfied: scipy>=0.19.1 in /usr/local/lib/python3.7/dist-packages (from scikit-optimize) (1.7.3)\n",
            "Requirement already satisfied: scikit-learn>=0.20.0 in /usr/local/lib/python3.7/dist-packages (from scikit-optimize) (1.0.2)\n",
            "Collecting pyaml>=16.9\n",
            "  Downloading pyaml-21.10.1-py2.py3-none-any.whl (24 kB)\n",
            "Requirement already satisfied: joblib>=0.11 in /usr/local/lib/python3.7/dist-packages (from scikit-optimize) (1.1.0)\n",
            "Requirement already satisfied: PyYAML in /usr/local/lib/python3.7/dist-packages (from pyaml>=16.9->scikit-optimize) (3.13)\n",
            "Requirement already satisfied: threadpoolctl>=2.0.0 in /usr/local/lib/python3.7/dist-packages (from scikit-learn>=0.20.0->scikit-optimize) (3.1.0)\n",
            "Installing collected packages: pyaml, scikit-optimize\n",
            "Successfully installed pyaml-21.10.1 scikit-optimize-0.9.0\n"
          ]
        }
      ]
    },
    {
      "cell_type": "markdown",
      "metadata": {
        "id": "zkYCjn2Ewp3w"
      },
      "source": [
        "Importações"
      ]
    },
    {
      "cell_type": "code",
      "execution_count": 30,
      "metadata": {
        "id": "OYbI7IO2wnsP"
      },
      "outputs": [],
      "source": [
        "#Padrão\n",
        "import pandas as pd\n",
        "import numpy as np\n",
        "\n",
        "# Sklearn\n",
        "from sklearn.preprocessing import LabelEncoder\n",
        "from sklearn.impute import KNNImputer\n",
        "from sklearn.preprocessing import StandardScaler, RobustScaler, MinMaxScaler\n",
        "from sklearn.model_selection import train_test_split\n",
        "from sklearn.pipeline import make_pipeline\n",
        "\n",
        "# Visualização\n",
        "import matplotlib.pyplot as plt\n",
        "import plotly.express as px\n",
        "import plotly.graph_objects as go\n",
        "import seaborn as sns\n",
        "\n",
        "# Modelos Machine Learning\n",
        "from sklearn.svm import SVR\n",
        "from sklearn.ensemble import AdaBoostRegressor, GradientBoostingRegressor, ExtraTreesRegressor, RandomForestRegressor, VotingRegressor, StackingRegressor\n",
        "from sklearn.linear_model import  Lasso, SGDRegressor\n",
        "from sklearn.neighbors import KNeighborsRegressor\n",
        "from sklearn.gaussian_process import GaussianProcessRegressor\n",
        "from xgboost import XGBRegressor\n",
        "from lightgbm import LGBMRegressor\n",
        "from sklearn.feature_selection import SelectKBest, f_regression, RFE, mutual_info_regression\n",
        "\n",
        "\n",
        "\n",
        "  # Avaliação\n",
        "from sklearn.model_selection import cross_val_score, KFold\n",
        "from sklearn.metrics  import r2_score"
      ]
    },
    {
      "cell_type": "markdown",
      "metadata": {
        "id": "QshbgBQPK2uD"
      },
      "source": [
        "Importação dos dados, seleção das features importantes, sepando o ID e o SalePrice que é o nosso target."
      ]
    },
    {
      "cell_type": "code",
      "execution_count": 86,
      "metadata": {
        "id": "aZ5UoTP1wzEd"
      },
      "outputs": [],
      "source": [
        "df_treino = pd.read_csv('/content/drive/MyDrive/Colab Notebooks/Projetos Portfólio/Regressão/Casas/dataset_tratado_treino.csv')\n",
        "df_teste = pd.read_csv('/content/drive/MyDrive/Colab Notebooks/Projetos Portfólio/Regressão/Casas/dataset_tratado_teste.csv')\n",
        "y = pd.read_csv('/content/drive/MyDrive/Colab Notebooks/Projetos Portfólio/Regressão/Casas/dataset_tratado_alvo.csv')\n",
        "ID_treino = df_treino['Id']\n",
        "ID_teste = df_teste['Id']\n",
        "df_treino.drop('Id', axis=1, inplace=True)\n",
        "df_teste.drop('Id', axis=1, inplace=True)"
      ]
    },
    {
      "cell_type": "code",
      "source": [
        "df_teste = pd.read_csv('/content/drive/MyDrive/Colab Notebooks/Projetos Portfólio/Regressão/Casas/Novo modelo/teste_tratado.csv')\n",
        "df_treino = pd.read_csv('/content/drive/MyDrive/Colab Notebooks/Projetos Portfólio/Regressão/Casas/Novo modelo/treino_tratado.csv')\n",
        "y = pd.read_csv('/content/drive/MyDrive/Colab Notebooks/Projetos Portfólio/Regressão/Casas/Novo modelo/target_tratado.csv')"
      ],
      "metadata": {
        "id": "W4yfXl2v68rJ"
      },
      "execution_count": 5,
      "outputs": []
    },
    {
      "cell_type": "code",
      "source": [
        "sns.set(rc={'figure.figsize':(30,15)})\n",
        "plt.style.use('ggplot')"
      ],
      "metadata": {
        "id": "wr9tLt7u5ifo"
      },
      "execution_count": 6,
      "outputs": []
    },
    {
      "cell_type": "markdown",
      "metadata": {
        "id": "CbUkgeA8vXN_"
      },
      "source": [
        "# Predição"
      ]
    },
    {
      "cell_type": "markdown",
      "metadata": {
        "id": "AQHJ-bQ8vZHP"
      },
      "source": [
        "## Preparação do dataset\n"
      ]
    },
    {
      "cell_type": "markdown",
      "source": [
        "- Fazer 3 tratamentos dos dados categoricos para verificar quem aparenta ser o melhor modelo\n",
        "\n",
        "  1. Com label Encoder\n",
        "  2. Com target Encoder\n",
        "  3. Com frequency Encoder \n",
        "- Encoder faz parte da parte de Feature Engineering, mas como é algo que pode alterar o resultado, vou fazer somente nessa etapa para verificar qual encoder corresponder melhor aos dados padrões"
      ],
      "metadata": {
        "id": "F90tLgTU72Wu"
      }
    },
    {
      "cell_type": "code",
      "source": [
        "# Target e preencher vázio\n",
        "y_treino = y.copy()\n",
        "y_treino = y.values.ravel()\n",
        "# def imputer(df):\n",
        "#   std = StandardScaler()\n",
        "#   df.iloc[:,:] = std.fit_transform(df)\n",
        "#   impu = KNNImputer(n_neighbors= 15)\n",
        "#   df.iloc[:,:] = impu.fit_transform(df)\n",
        "#   df.iloc[:,:] = std.inverse_transform(df)\n",
        "#   return df\n",
        "def imputer(df):\n",
        "  from sklearn.impute import SimpleImputer\n",
        "  # Usando mediana para evitar problemas com outliers\n",
        "  si = SimpleImputer(strategy='median')\n",
        "  df.iloc[:,:] = si.fit_transform(df)\n",
        "\n",
        "  return df\n",
        "# Label Encoder (LE)\n",
        "treino_LE = df_treino.copy()\n",
        "teste_LE = df_teste.copy()\n",
        "\n",
        "# Target Encoder (TE)\n",
        "treino_TE = df_treino.copy()\n",
        "teste_TE = df_teste.copy()\n",
        "\n",
        "columns = df_treino.columns[8:]\n",
        "treino_TE['target'] = y_treino\n",
        "for i in columns:\n",
        "  a = treino_TE.groupby(i)['target'].mean()\n",
        "  treino_TE[i] = treino_TE[i].map(a)\n",
        "  teste_TE[i] = teste_TE[i].map(a)\n",
        "treino_TE = treino_TE.drop('target',axis=1)\n",
        "print(f'Há {teste_TE.isnull().sum().sum()} vazios gerados por categóricos inexistentes na base da dados')\n",
        "teste_TE = imputer(teste_TE)\n",
        "print(f'Há {teste_TE.isnull().sum().sum()} dados vazios após o tratamento')\n",
        "\n",
        "# Frequency Encoder (FE)\n",
        "treino_FE = df_treino.copy()\n",
        "teste_FE = df_teste.copy()\n",
        "\n",
        "for i in columns:\n",
        "  sub = treino_FE[i].value_counts()/treino_FE.shape[0]\n",
        "  treino_FE[i] = treino_FE[i].map(sub)\n",
        "  teste_FE[i] = teste_FE[i].map(sub)\n",
        "\n",
        "print(f'Há {teste_FE.isnull().sum().sum()} vazios gerados por categóricos inexistentes na base da dados')\n",
        "teste_FE = imputer(teste_FE)\n",
        "print(f'Há {teste_FE.isnull().sum().sum()} dados vazios após o tratamento')"
      ],
      "metadata": {
        "colab": {
          "base_uri": "https://localhost:8080/"
        },
        "id": "ZZkViKy78OBG",
        "outputId": "15280c8f-4a02-4d98-ef70-574822c6a547"
      },
      "execution_count": 7,
      "outputs": [
        {
          "output_type": "stream",
          "name": "stdout",
          "text": [
            "Há 4257 vazios gerados por categóricos inexistentes na base da dados\n",
            "Há 0 dados vazios após o tratamento\n",
            "Há 4257 vazios gerados por categóricos inexistentes na base da dados\n",
            "Há 0 dados vazios após o tratamento\n"
          ]
        }
      ]
    },
    {
      "cell_type": "code",
      "source": [
        "datasets = {\n",
        "    'Label':treino_LE,\n",
        "    'Target':treino_TE,\n",
        "    'Freq':treino_FE\n",
        "}"
      ],
      "metadata": {
        "id": "TN7r_SbPCmMd"
      },
      "execution_count": 8,
      "outputs": []
    },
    {
      "cell_type": "markdown",
      "source": [
        "## Algoritmos Machine Learning"
      ],
      "metadata": {
        "id": "zG9e6aZjBmXz"
      }
    },
    {
      "cell_type": "code",
      "execution_count": 16,
      "metadata": {
        "id": "_zRhbOI6frkm"
      },
      "outputs": [],
      "source": [
        "def modelos_(entrada, df=None, n_modelos=None, param=None):\n",
        "\n",
        "  if entrada == 1:\n",
        "    modelos = [\n",
        "             ['SVR', SVR()],\n",
        "             ['lg',LGBMRegressor(n_estimators=500)]\n",
        "             ]\n",
        "\n",
        "\n",
        "\n",
        "    return modelos\n",
        "  elif entrada == 2:\n",
        "    modelos = [\n",
        "             [('SVR', SVR()), df[0]],\n",
        "             [('ad',AdaBoostRegressor()), df[1]],\n",
        "             [('gb',GradientBoostingRegressor()), df[2]],\n",
        "             [('et',ExtraTreesRegressor()), df[3]],\n",
        "             [('rf',RandomForestRegressor()), df[4]],\n",
        "             [('lasso', Lasso(alpha=0.85)), df[5]],\n",
        "             [('xg',XGBRegressor(objective = \"reg:squarederror\")), df[6]],\n",
        "             [('lg',LGBMRegressor()), df[7]],\n",
        "             [('sgd',SGDRegressor()), df[8]],\n",
        "             [('knn',KNeighborsRegressor()), df[9]],\n",
        "             ]\n",
        "    modelos = np.array(modelos)\n",
        "    modelos = modelos[modelos[:,1].argsort()[::-1]].tolist()\n",
        "    modelos = np.array(modelos)[:n_modelos]\n",
        "    modelos = modelos.T\n",
        "\n",
        "    return modelos\n",
        "  elif entrada == 3:\n",
        "    \n",
        "    modelos_k = {'SVR':{},\n",
        "                'ad':{},\n",
        "                'gb':{},\n",
        "                'et':{},\n",
        "                'rf':{},\n",
        "                'lasso':{},\n",
        "                'xg':{},\n",
        "                'lg':{},\n",
        "                'sgd':{},\n",
        "                'knn':{},\n",
        "                }\n",
        "                \n",
        "    for i in param:\n",
        "      modelos_k[i] = param[i]\n",
        "\n",
        "    modelos_kl = {\n",
        "                'SVR':SVR(**modelos_k['SVR']),\n",
        "                'ad':AdaBoostRegressor(**modelos_k['ad']),\n",
        "                'gb':GradientBoostingRegressor(**modelos_k['gb']),\n",
        "                'et':ExtraTreesRegressor(**modelos_k['et']),\n",
        "                'rf':RandomForestRegressor(**modelos_k['rf']),\n",
        "                'lasso':Lasso(**modelos_k['lasso']),\n",
        "                'xg':XGBRegressor(objective = \"reg:squarederror\", **modelos_k['xg']),\n",
        "                'lg':LGBMRegressor(**modelos_k['lg']),\n",
        "                'sgd':SGDRegressor(**modelos_k['sgd']),\n",
        "                'knn':KNeighborsRegressor(**modelos_k['knn']),\n",
        "                }\n",
        "\n",
        "\n",
        "    saida = {}\n",
        "    for i in param:\n",
        "      saida.update({i : modelos_kl[i]})\n",
        "\n",
        "    return saida\n",
        "  elif entrada == 4:\n",
        "    modelos = {'SVR': SVR(),\n",
        "               'lg':LGBMRegressor(n_estimators=500)}\n",
        "  return modelos\n",
        "    "
      ]
    },
    {
      "cell_type": "markdown",
      "source": [
        "## Análise Encoders"
      ],
      "metadata": {
        "id": "EPukYAmWLs_c"
      }
    },
    {
      "cell_type": "markdown",
      "source": [
        "### Função"
      ],
      "metadata": {
        "id": "pT_G336Y4KyW"
      }
    },
    {
      "cell_type": "code",
      "execution_count": 10,
      "metadata": {
        "id": "swEd09X65uzS"
      },
      "outputs": [],
      "source": [
        "# --------- 1 ----------\n",
        "\n",
        "\n",
        "def regress(df, y):\n",
        "  df_resultado = pd.DataFrame()\n",
        "  indices = np.array(modelos_(1)).T[0]\n",
        "  if len(df) > 1:\n",
        "    for ii in df:\n",
        "      print(ii)\n",
        "      df_1 = df[ii].copy()\n",
        "\n",
        "      modelos = modelos_(1)\n",
        "\n",
        "      # Looping passando o cross val em cada modelo, retornando a média dos resultados pelo R2 e adicionando em uma lista.\n",
        "      resultados = []\n",
        "      for i in modelos:\n",
        "        model = i[1]\n",
        "        resultado = cross_val_score(model, df_1.values, y, cv=10, scoring='r2').mean()\n",
        "        resultados.append(resultado*100)\n",
        "      df_resultado[f'{ii}'] = resultados\n",
        "\n",
        "    res = pd.DataFrame()\n",
        "    for i in df_resultado:\n",
        "      j = []\n",
        "      for nn in df_resultado[i]:\n",
        "        if nn < 1:\n",
        "          nn = 0\n",
        "        j.append(round(nn,3))\n",
        "      res[i] = j\n",
        "\n",
        "    res['models'] = indices\n",
        "    re_teste = res.melt(id_vars='models').rename(columns=str.title)\n",
        "    fig = sns.barplot(data=re_teste, x='Models',y='Value',hue='Variable', linewidth=5)\n",
        "    for i in fig.patches:\n",
        "      fig.annotate(f'{round(i.get_height(),3)}%',xy=(i.get_xy()[0]+0.03, i.get_height()+0.6), fontsize=9)\n",
        "    fig.set_title('Avaliação dos Encoders', fontsize=25, y=1.05)\n",
        "\n",
        "    return res\n",
        "  else:\n",
        "    df_1 = df['treino'].copy()\n",
        "    modelos = modelos_(1)\n",
        "    df_resultado['Modelos'] = indices\n",
        "    # Looping passando o cross val em cada modelo, retornando a média dos resultados pelo R2 e adicionando em uma lista.\n",
        "    resultados = []\n",
        "    for i in modelos:\n",
        "      model = i[1]\n",
        "      resultado = cross_val_score(model, df_1.values, y, cv=10, scoring='r2').mean()\n",
        "      if resultado > 1:\n",
        "        resultado = 0\n",
        "      else:\n",
        "        resultados.append(resultado*100)\n",
        "    df_resultado['Resultados'] = resultados\n",
        "    return df_resultado\n",
        "\n",
        "\n"
      ]
    },
    {
      "cell_type": "markdown",
      "source": [
        "### Resultado"
      ],
      "metadata": {
        "id": "MI6MDqoq4NJe"
      }
    },
    {
      "cell_type": "code",
      "execution_count": 11,
      "metadata": {
        "colab": {
          "base_uri": "https://localhost:8080/",
          "height": 826
        },
        "id": "MBuYe_np7zI3",
        "outputId": "3cbd9f34-9755-4727-e9f2-af5e09e5940c"
      },
      "outputs": [
        {
          "output_type": "stream",
          "name": "stdout",
          "text": [
            "Label\n",
            "Target\n",
            "Freq\n"
          ]
        },
        {
          "output_type": "display_data",
          "data": {
            "text/plain": [
              "<Figure size 2160x1080 with 1 Axes>"
            ],
            "image/png": "[encoded data removed]"
          },
          "metadata": {}
        }
      ],
      "source": [
        "resultados = regress(datasets, y_treino)"
      ]
    },
    {
      "cell_type": "markdown",
      "source": [
        "<h2><font color='lightblue'> Conclusão </font></h2>\n",
        "<h3> -  Melhor resultado foi presente no TargetEncoder, então será utilizado."
      ],
      "metadata": {
        "id": "4O-lOYbqNdBQ"
      }
    },
    {
      "cell_type": "markdown",
      "source": [
        "## Análise padronização"
      ],
      "metadata": {
        "id": "KYz3ItzDLxcT"
      }
    },
    {
      "cell_type": "markdown",
      "source": [
        "### Função"
      ],
      "metadata": {
        "id": "N5hGYpCG_Q2E"
      }
    },
    {
      "cell_type": "code",
      "source": [
        "def norm(df, y):\n",
        "  # Sem normalização\n",
        "  df_pad = df.copy()\n",
        "\n",
        "  # Min Max\n",
        "  mm = MinMaxScaler()\n",
        "  df_mm = df.copy()\n",
        "  df_mm.iloc[:,:] = mm.fit_transform(df_mm)\n",
        "\n",
        "  # Standar Scaler\n",
        "  ss = StandardScaler()\n",
        "  df_ss = df.copy()\n",
        "  df_ss.iloc[:,:] = ss.fit_transform(df_ss)\n",
        "\n",
        "  # Robust Scaler\n",
        "  rs = RobustScaler()\n",
        "  df_rs = df.copy()\n",
        "  df_rs.iloc[:,:] = rs.fit_transform(df_rs)\n",
        "\n",
        "  datasets = {\n",
        "      'Sem Norm':df_pad,\n",
        "      'MinMax':df_mm,\n",
        "      'StdSca':df_ss,\n",
        "      'RobSca':df_rs\n",
        "  }\n",
        "  resultados = regress(datasets, y_treino)\n",
        "  return resultados\n"
      ],
      "metadata": {
        "id": "caEhSvuTLzLn"
      },
      "execution_count": 12,
      "outputs": []
    },
    {
      "cell_type": "markdown",
      "source": [
        "### Resultado"
      ],
      "metadata": {
        "id": "u6sREL57_Sh2"
      }
    },
    {
      "cell_type": "code",
      "source": [
        "resultado = norm(treino_TE, y_treino)"
      ],
      "metadata": {
        "colab": {
          "base_uri": "https://localhost:8080/",
          "height": 844
        },
        "id": "Jgr2wgnENaNa",
        "outputId": "b2011fa0-c77f-4bc9-f81a-1a6d22097e79"
      },
      "execution_count": 13,
      "outputs": [
        {
          "output_type": "stream",
          "name": "stdout",
          "text": [
            "Sem Norm\n",
            "MinMax\n",
            "StdSca\n",
            "RobSca\n"
          ]
        },
        {
          "output_type": "display_data",
          "data": {
            "text/plain": [
              "<Figure size 2160x1080 with 1 Axes>"
            ],
            "image/png": "[encoded data removed]"
          },
          "metadata": {}
        }
      ]
    },
    {
      "cell_type": "markdown",
      "source": [
        "<h2><font color='lightblue'> Conclusão </font></h2>\n",
        " \n",
        "- Melhor modelo para ambos foi o Robust Scaler"
      ],
      "metadata": {
        "id": "cbojMnEmXr20"
      }
    },
    {
      "cell_type": "code",
      "source": [
        "ss = RobustScaler()\n",
        "treino_p2 = treino_TE.copy()\n",
        "teste_p2 = teste_TE.copy()\n",
        "teste_p2.iloc[:,:] = ss.fit_transform(teste_p2)\n",
        "treino_p2.iloc[:,:] = ss.fit_transform(treino_p2)"
      ],
      "metadata": {
        "id": "gJN_O4a_wyqg"
      },
      "execution_count": 14,
      "outputs": []
    },
    {
      "cell_type": "markdown",
      "source": [
        "## Análise Voting"
      ],
      "metadata": {
        "id": "t4Maf7Hq0WcS"
      }
    },
    {
      "cell_type": "code",
      "source": [
        "Modelos = ['lg','SVR']\n",
        "base = modelos_(4)\n",
        "base = [(i, base[i]) for i in Modelos]\n",
        "Pesos = [0.6, 0.4]\n"
      ],
      "metadata": {
        "id": "Nl2ptS1S_phs"
      },
      "execution_count": 87,
      "outputs": []
    },
    {
      "cell_type": "code",
      "source": [
        "\n",
        "voto = VotingRegressor(estimators=base, weights=Pesos)\n",
        "cv = KFold(n_splits=10,shuffle=True,random_state=10)\n",
        "resultado = cross_val_score(voto, treino_p2, y_treino, cv=cv, scoring='r2').mean()*100\n",
        "print(resultado)\n"
      ],
      "metadata": {
        "id": "qYlRFSsHQzA_",
        "colab": {
          "base_uri": "https://localhost:8080/"
        },
        "outputId": "dcfd2586-2953-4034-8870-94e3c185e226"
      },
      "execution_count": 89,
      "outputs": [
        {
          "output_type": "stream",
          "name": "stdout",
          "text": [
            "89.75954212505994\n"
          ]
        }
      ]
    },
    {
      "cell_type": "markdown",
      "source": [
        "<h2><font color='lightblue'> Conclusão </font></h2>\n",
        "\n",
        "- Utilizando a metrica de r2 score, os resultados obtidos foram os seguintes:\n",
        "  - SVR: 88.274%\n",
        "  - LightB: 89.252%\n",
        "  - Voting: 90.124%\n",
        " "
      ],
      "metadata": {
        "id": "qbdW9ARWS53v"
      }
    },
    {
      "cell_type": "markdown",
      "source": [
        "## Feature Selection"
      ],
      "metadata": {
        "id": "4JaRRq96TaEG"
      }
    },
    {
      "cell_type": "markdown",
      "source": [
        "### Função"
      ],
      "metadata": {
        "id": "VtLyVUHWb3wZ"
      }
    },
    {
      "cell_type": "code",
      "source": [
        "def feat_sel(inicio, step):\n",
        "  voto = VotingRegressor(estimators=base, weights=Pesos)\n",
        "  # cv = KFold(n_splits=10,shuffle=True,random_state=5)\n",
        "  results = []\n",
        "  c=0\n",
        "  for i in range(inicio,treino_p2.shape[1]+step, step):\n",
        "    if i > treino_p2.shape[1]:\n",
        "      i = treino_p2.shape[1]\n",
        "    fs = SelectKBest(score_func = mutual_info_regression, k =i)\n",
        "    sel = fs.fit(treino_p2.values, y_treino)\n",
        "    col = sel.get_support(indices=True)\n",
        "    res = cross_val_score(voto, treino_p2.iloc[:,col], y_treino, cv=cv, scoring='r2').mean()*100\n",
        "    results.append([i, res])\n",
        "    print(i, res)\n",
        "    c += 1\n",
        "    if c == 10:\n",
        "      return results\n",
        "  return results\n",
        "\n",
        "def ap_fs(tr, te, ni):\n",
        "  fs = SelectKBest(score_func = mutual_info_regression, k =ni)\n",
        "  sel = fs.fit(tr, y_treino)\n",
        "  col = sel.get_support(indices=True)\n",
        "  tr_s = tr.iloc[:,col]\n",
        "  te_s = te.iloc[:,col]\n",
        "  return tr_s, te_s"
      ],
      "metadata": {
        "id": "llTwEX33S5gR"
      },
      "execution_count": 46,
      "outputs": []
    },
    {
      "cell_type": "markdown",
      "source": [
        "### Resultados"
      ],
      "metadata": {
        "id": "z0u03DxNb98w"
      }
    },
    {
      "cell_type": "code",
      "source": [
        "feat_sel(20, 7)\n"
      ],
      "metadata": {
        "colab": {
          "base_uri": "https://localhost:8080/"
        },
        "id": "JpN9tECRWu4y",
        "outputId": "4bd9f131-96f8-4599-a89d-35029d8e5739"
      },
      "execution_count": 39,
      "outputs": [
        {
          "output_type": "stream",
          "name": "stdout",
          "text": [
            "20 87.56427249595475\n",
            "27 88.83304108800891\n",
            "34 89.87286757138936\n",
            "41 90.02470515110362\n",
            "48 90.14979013878745\n",
            "55 90.08976496271885\n",
            "62 90.09102810568453\n",
            "68 90.12498098935252\n"
          ]
        },
        {
          "output_type": "execute_result",
          "data": {
            "text/plain": [
              "[[20, 87.56427249595475],\n",
              " [27, 88.83304108800891],\n",
              " [34, 89.87286757138936],\n",
              " [41, 90.02470515110362],\n",
              " [48, 90.14979013878745],\n",
              " [55, 90.08976496271885],\n",
              " [62, 90.09102810568453],\n",
              " [68, 90.12498098935252]]"
            ]
          },
          "metadata": {},
          "execution_count": 39
        }
      ]
    },
    {
      "cell_type": "code",
      "source": [
        "# Como o melhor resultado foi na faixa do 62 até 68, fazer uma avaliação do 60 até o 68\n",
        "results_0 = feat_sel(41,1)\n"
      ],
      "metadata": {
        "colab": {
          "base_uri": "https://localhost:8080/"
        },
        "id": "ZcKh-WoScD4R",
        "outputId": "0a89bed7-cb3d-4457-a568-9316babe5ef6"
      },
      "execution_count": 44,
      "outputs": [
        {
          "output_type": "stream",
          "name": "stdout",
          "text": [
            "41 89.79980749238435\n",
            "42 89.97145208932818\n",
            "43 90.00407719731263\n",
            "44 90.05675171440204\n",
            "45 90.07796031326404\n",
            "46 89.89970579097717\n",
            "47 89.98327877387851\n",
            "48 90.08883148770622\n",
            "49 90.27278869933075\n",
            "50 90.1849658531515\n"
          ]
        }
      ]
    },
    {
      "cell_type": "code",
      "source": [
        "results_0 = feat_sel(51,1)"
      ],
      "metadata": {
        "colab": {
          "base_uri": "https://localhost:8080/"
        },
        "id": "ZR4i1GiyhdQt",
        "outputId": "9474fa0f-b4fa-43ab-ad72-bf1a60c23ef4"
      },
      "execution_count": 45,
      "outputs": [
        {
          "output_type": "stream",
          "name": "stdout",
          "text": [
            "51 90.08549474660012\n",
            "52 90.13581104877429\n",
            "53 90.16689843331092\n",
            "54 90.1217541218193\n",
            "55 90.06471031497799\n",
            "56 90.05980140711438\n",
            "57 90.20421504476964\n",
            "58 90.17560664457491\n",
            "59 90.02864862228621\n",
            "60 90.15498559696394\n"
          ]
        }
      ]
    },
    {
      "cell_type": "markdown",
      "source": [
        "<h2><font color='lightblue'> Conclusão </font></h2>\n",
        "\n",
        "- Com a análise das Feature Selection o melhor número de features foi de 49, proporcionando uma melhora para 90.272 % de R2\n"
      ],
      "metadata": {
        "id": "5Sm-OCwyhjOY"
      }
    },
    {
      "cell_type": "code",
      "source": [
        "treino_p3 = treino_p2.copy()\n",
        "teste_p3 = teste_p2.copy()\n",
        "treino_p3, teste_p3 = ap_fs(treino_p3, teste_p3, 49)"
      ],
      "metadata": {
        "id": "51-KCkxYhyDp"
      },
      "execution_count": 47,
      "outputs": []
    },
    {
      "cell_type": "code",
      "source": [
        "treino_p3.columns"
      ],
      "metadata": {
        "colab": {
          "base_uri": "https://localhost:8080/"
        },
        "id": "TQqFs3U8hV6i",
        "outputId": "73339f64-5dae-4651-bc75-5158687b67cc"
      },
      "execution_count": 48,
      "outputs": [
        {
          "output_type": "execute_result",
          "data": {
            "text/plain": [
              "Index(['LotFrontage', 'LotArea', 'BsmtUnfSF', 'TotalBsmtSF', '1stFlrSF',\n",
              "       'GrLivArea', 'GarageArea', 'Fireplaces', 'YearBuilt', 'MSSubClass',\n",
              "       'TotRmsAbvGrd', 'YearRemodAdd', 'OverallCond', 'OverallQual',\n",
              "       'GarageCars', 'FullBath', 'BedroomAbvGr', 'BsmtFullBath', 'GarageYrBlt',\n",
              "       'MasVnrArea', 'BsmtFinSF1', 'WoodDeckSF', 'OpenPorchSF',\n",
              "       'EnclosedPorch', 'GarageFinish', 'Fence', 'FireplaceQu', 'MSZoning',\n",
              "       'Electrical', 'BsmtExposure', 'Exterior1st', 'GarageQual', 'BsmtQual',\n",
              "       'Exterior2nd', 'HouseStyle', 'HeatingQC', 'PavedDrive', 'Neighborhood',\n",
              "       'CentralAir', 'GarageType', 'SaleCondition', 'KitchenQual', 'ExterQual',\n",
              "       'MasVnrType', 'Foundation', 'BsmtFinType1', 'SaleType', 'GarageCond',\n",
              "       'LotShape'],\n",
              "      dtype='object')"
            ]
          },
          "metadata": {},
          "execution_count": 48
        }
      ]
    },
    {
      "cell_type": "markdown",
      "source": [
        "## Parameters tunning"
      ],
      "metadata": {
        "id": "NQM_uitgikVH"
      }
    },
    {
      "cell_type": "markdown",
      "source": [
        "### Função"
      ],
      "metadata": {
        "id": "EW6jKtp0itf4"
      }
    },
    {
      "cell_type": "code",
      "source": [
        "def bobh(df):\n",
        "  from skopt import BayesSearchCV\n",
        "  from skopt.space import Real, Categorical, Integer\n",
        "\n",
        "\n",
        "  # To define all params \n",
        "  space = {'SVR':{'C':Real(0.01, 1),\n",
        "                  'epsilon':Real(0.01,1)},\n",
        "           'lg':{'learning_rate':Real(0.01, 1),\n",
        "              'n_estimators':Integer(500,5000),\n",
        "              'max_depth' : Integer(1,10)}\n",
        "          }\n",
        "           \n",
        "  results = {}\n",
        "  # Searching\n",
        "  for i,ii in zip(base, Modelos ):\n",
        "    print(i,ii)\n",
        "    search = BayesSearchCV(i[1], space[ii], n_iter=20, random_state=10, cv=cv, return_train_score=True, scoring='r2', refit=True, verbose=True).fit(df,y_treino)\n",
        "    results.update({i[0]:search.best_params_})\n",
        "\n",
        "  parametros = modelos_(3, param=results)\n",
        "  return parametros\n"
      ],
      "metadata": {
        "id": "x30SEYm6AfoJ"
      },
      "execution_count": 58,
      "outputs": []
    },
    {
      "cell_type": "markdown",
      "source": [
        "### Resultados"
      ],
      "metadata": {
        "id": "xESXut2nivj7"
      }
    },
    {
      "cell_type": "code",
      "source": [
        "parameters = bobh(treino_p3)"
      ],
      "metadata": {
        "colab": {
          "base_uri": "https://localhost:8080/"
        },
        "id": "MHvlvKMHis5E",
        "outputId": "da786f39-12cb-49c3-c939-9ccf09f0bf53"
      },
      "execution_count": 60,
      "outputs": [
        {
          "output_type": "stream",
          "name": "stdout",
          "text": [
            "('lg', LGBMRegressor(n_estimators=500)) lg\n",
            "Fitting 10 folds for each of 1 candidates, totalling 10 fits\n",
            "Fitting 10 folds for each of 1 candidates, totalling 10 fits\n",
            "Fitting 10 folds for each of 1 candidates, totalling 10 fits\n",
            "Fitting 10 folds for each of 1 candidates, totalling 10 fits\n",
            "Fitting 10 folds for each of 1 candidates, totalling 10 fits\n",
            "Fitting 10 folds for each of 1 candidates, totalling 10 fits\n",
            "Fitting 10 folds for each of 1 candidates, totalling 10 fits\n",
            "Fitting 10 folds for each of 1 candidates, totalling 10 fits\n",
            "Fitting 10 folds for each of 1 candidates, totalling 10 fits\n",
            "Fitting 10 folds for each of 1 candidates, totalling 10 fits\n",
            "Fitting 10 folds for each of 1 candidates, totalling 10 fits\n",
            "Fitting 10 folds for each of 1 candidates, totalling 10 fits\n",
            "Fitting 10 folds for each of 1 candidates, totalling 10 fits\n",
            "Fitting 10 folds for each of 1 candidates, totalling 10 fits\n",
            "Fitting 10 folds for each of 1 candidates, totalling 10 fits\n",
            "Fitting 10 folds for each of 1 candidates, totalling 10 fits\n",
            "Fitting 10 folds for each of 1 candidates, totalling 10 fits\n",
            "Fitting 10 folds for each of 1 candidates, totalling 10 fits\n",
            "Fitting 10 folds for each of 1 candidates, totalling 10 fits\n",
            "('SVR', SVR()) SVR\n",
            "Fitting 10 folds for each of 1 candidates, totalling 10 fits\n",
            "Fitting 10 folds for each of 1 candidates, totalling 10 fits\n",
            "Fitting 10 folds for each of 1 candidates, totalling 10 fits\n",
            "Fitting 10 folds for each of 1 candidates, totalling 10 fits\n",
            "Fitting 10 folds for each of 1 candidates, totalling 10 fits\n",
            "Fitting 10 folds for each of 1 candidates, totalling 10 fits\n",
            "Fitting 10 folds for each of 1 candidates, totalling 10 fits\n",
            "Fitting 10 folds for each of 1 candidates, totalling 10 fits\n",
            "Fitting 10 folds for each of 1 candidates, totalling 10 fits\n",
            "Fitting 10 folds for each of 1 candidates, totalling 10 fits\n",
            "Fitting 10 folds for each of 1 candidates, totalling 10 fits\n",
            "Fitting 10 folds for each of 1 candidates, totalling 10 fits\n",
            "Fitting 10 folds for each of 1 candidates, totalling 10 fits\n",
            "Fitting 10 folds for each of 1 candidates, totalling 10 fits\n",
            "Fitting 10 folds for each of 1 candidates, totalling 10 fits\n",
            "Fitting 10 folds for each of 1 candidates, totalling 10 fits\n",
            "Fitting 10 folds for each of 1 candidates, totalling 10 fits\n",
            "Fitting 10 folds for each of 1 candidates, totalling 10 fits\n",
            "Fitting 10 folds for each of 1 candidates, totalling 10 fits\n",
            "Fitting 10 folds for each of 1 candidates, totalling 10 fits\n"
          ]
        }
      ]
    },
    {
      "cell_type": "code",
      "source": [
        "parameters"
      ],
      "metadata": {
        "colab": {
          "base_uri": "https://localhost:8080/"
        },
        "id": "6jBi_5a4tdy3",
        "outputId": "e11aefad-46aa-44c7-b66e-e111acb6fecd"
      },
      "execution_count": 61,
      "outputs": [
        {
          "output_type": "execute_result",
          "data": {
            "text/plain": [
              "{'SVR': SVR(C=0.8857962831665025, epsilon=0.01),\n",
              " 'lg': LGBMRegressor(learning_rate=0.01, max_depth=7, n_estimators=2841)}"
            ]
          },
          "metadata": {},
          "execution_count": 61
        }
      ]
    },
    {
      "cell_type": "code",
      "source": [
        "base_final = [(i, parameters[i]) for i in parameters]\n",
        "base_final"
      ],
      "metadata": {
        "colab": {
          "base_uri": "https://localhost:8080/"
        },
        "id": "SHp5p07mtsXJ",
        "outputId": "64133146-6b2d-449b-a070-8f4f695d1309"
      },
      "execution_count": 63,
      "outputs": [
        {
          "output_type": "execute_result",
          "data": {
            "text/plain": [
              "[('lg', LGBMRegressor(learning_rate=0.01, max_depth=7, n_estimators=2841)),\n",
              " ('SVR', SVR(C=0.8857962831665025, epsilon=0.01))]"
            ]
          },
          "metadata": {},
          "execution_count": 63
        }
      ]
    },
    {
      "cell_type": "code",
      "source": [
        "voto = VotingRegressor(estimators=base_final, weights=Pesos)\n",
        "base_final.append(('voting',voto))\n",
        "for i in base_final:\n",
        "  print(i)\n",
        "# resultado = cross_val_score(voto, treino_p2, y_treino, cv=cv, scoring='r2').mean()*100"
      ],
      "metadata": {
        "colab": {
          "base_uri": "https://localhost:8080/"
        },
        "id": "wzqH8ui-oTl9",
        "outputId": "a743e0a0-9382-4f04-b425-863f81f7c035"
      },
      "execution_count": 65,
      "outputs": [
        {
          "output_type": "stream",
          "name": "stdout",
          "text": [
            "('lg', LGBMRegressor(learning_rate=0.01, max_depth=7, n_estimators=2841))\n",
            "('SVR', SVR(C=0.8857962831665025, epsilon=0.01))\n",
            "('voting', VotingRegressor(estimators=[('lg',\n",
            "                             LGBMRegressor(learning_rate=0.01, max_depth=7,\n",
            "                                           n_estimators=2841)),\n",
            "                            ('SVR', SVR(C=0.8857962831665025, epsilon=0.01)),\n",
            "                            ('voting',\n",
            "                             <Recursion on VotingRegressor with id=140167694539600>)],\n",
            "                weights=[0.6, 0.4]))\n"
          ]
        }
      ]
    },
    {
      "cell_type": "code",
      "source": [
        "for i in base_final:\n",
        "  v = i[1]\n",
        "  if i[0] == 'voting':\n",
        "    v = VotingRegressor(estimators=base_final[:2], weights=Pesos)\n",
        "  resultado = cross_val_score(v, treino_p3, y_treino, cv=cv, scoring='r2').mean()*100\n",
        "  print(i[0], resultado)"
      ],
      "metadata": {
        "colab": {
          "base_uri": "https://localhost:8080/"
        },
        "id": "ihRVgO4qpE-O",
        "outputId": "7d7963a1-5552-4e93-9572-ffdaac5b4862"
      },
      "execution_count": 72,
      "outputs": [
        {
          "output_type": "stream",
          "name": "stdout",
          "text": [
            "lg 89.61177666700308\n",
            "SVR 88.97466727891671\n",
            "voting 90.45880328123822\n"
          ]
        }
      ]
    },
    {
      "cell_type": "code",
      "source": [
        "for i in base_final:\n",
        "  v = i[1]\n",
        "  if i[0] == 'voting':\n",
        "    v = VotingRegressor(estimators=base_final[:2], weights=Pesos)\n",
        "  resultado = cross_val_score(v, treino_p2, y_treino, cv=cv, scoring='r2').mean()*100\n",
        "  print(i[0], resultado)"
      ],
      "metadata": {
        "colab": {
          "base_uri": "https://localhost:8080/"
        },
        "id": "PAhRAUBerB81",
        "outputId": "2bfea888-882e-48ae-fc14-5bd5cc6bbee6"
      },
      "execution_count": 73,
      "outputs": [
        {
          "output_type": "stream",
          "name": "stdout",
          "text": [
            "lg 89.60853454462043\n",
            "SVR 88.83987800590415\n",
            "voting 90.40304069224294\n"
          ]
        }
      ]
    },
    {
      "cell_type": "markdown",
      "source": [
        "<h2><font color='lightblue'> Conclusão </font></h2>\n",
        "\n",
        "- Antes do FS e do hyperparametro\n",
        "  - SVR: 88.274%\n",
        "  - LightB: 89.252%\n",
        "  - Voting: 90.124%\n",
        "\n",
        "- Pós FS e hyperparametro\n",
        "  - SVR: 88.97%\n",
        "  - LightB: 89.61%\n",
        "  - voting: 90.45%\n",
        "\n",
        "- Foi ganho um certo nível de acerto depois dos filtros utilizados."
      ],
      "metadata": {
        "id": "DsOnqNI5r55A"
      }
    },
    {
      "cell_type": "markdown",
      "source": [
        "## Treinamento e Exportação\n"
      ],
      "metadata": {
        "id": "drfyoXwUvu8B"
      }
    },
    {
      "cell_type": "code",
      "source": [
        "model = voto.fit(treino_p2, y_treino)\n",
        "prev = np.exp(model.predict(teste_p2)).tolist()\n",
        "export = pd.DataFrame()\n",
        "export['Id'] = ID_teste\n",
        "export['SalePrice'] = prev\n",
        "export"
      ],
      "metadata": {
        "id": "mwUKL1FRslft"
      },
      "execution_count": null,
      "outputs": []
    },
    {
      "cell_type": "code",
      "source": [
        "export.to_csv('/content/drive/MyDrive/Colab Notebooks/Projetos Portfólio/Regressão/Casas/Previsões/2_models.csv',index=False)"
      ],
      "metadata": {
        "id": "SIeYRS22tEaF"
      },
      "execution_count": 85,
      "outputs": []
    }
  ],
  "metadata": {
    "colab": {
      "collapsed_sections": [],
      "name": "SVR e Lightb house_price.ipynb",
      "provenance": [],
      "toc_visible": true
    },
    "kernelspec": {
      "display_name": "Python 3",
      "name": "python3"
    },
    "language_info": {
      "name": "python"
    }
  },
  "nbformat": 4,
  "nbformat_minor": 0
}