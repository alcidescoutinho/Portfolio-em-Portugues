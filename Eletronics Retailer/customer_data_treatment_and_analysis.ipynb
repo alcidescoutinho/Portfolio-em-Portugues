{
 "cells": [
  {
   "cell_type": "code",
   "execution_count": 14,
   "id": "3012d524-1fda-44bb-92c7-9a91023696c2",
   "metadata": {},
   "outputs": [],
   "source": [
    "import pandas as pd\n",
    "from datetime import datetime "
   ]
  },
  {
   "cell_type": "code",
   "execution_count": 9,
   "id": "815d5308-30eb-4da6-a6e4-e0a509a55d6d",
   "metadata": {},
   "outputs": [],
   "source": [
    "df_customers = pd.read_csv(\"C:/Users/alcid/Ciência de Dados/portfólio_atual/Portfolio-em-Portugues/Eletronics Retailer/datas/Customers.csv\",encoding='ISO-8859-1')"
   ]
  },
  {
   "cell_type": "markdown",
   "id": "43fd564f-768f-4fa6-bb7f-c7890b9852f1",
   "metadata": {},
   "source": [
    "- Points identifies:\n",
    "      - Change Birthday date format.\n",
    "      - "
   ]
  },
  {
   "cell_type": "code",
   "execution_count": 22,
   "id": "00455955-43e4-4207-a60c-e44bfb0e2b9f",
   "metadata": {},
   "outputs": [
    {
     "data": {
      "text/plain": [
       "0       1939-07-03\n",
       "1       1979-09-27\n",
       "2       1947-05-26\n",
       "3       1957-09-17\n",
       "4       1965-11-19\n",
       "           ...    \n",
       "15261   1936-03-25\n",
       "15262   1992-02-16\n",
       "15263   1937-11-09\n",
       "15264   1937-10-12\n",
       "15265   1965-08-18\n",
       "Name: Birthday, Length: 15266, dtype: datetime64[ns]"
      ]
     },
     "execution_count": 22,
     "metadata": {},
     "output_type": "execute_result"
    }
   ],
   "source": [
    "pd.to_datetime(df_customers['Birthday'])"
   ]
  },
  {
   "cell_type": "code",
   "execution_count": null,
   "id": "1ed7b233-818e-4663-a75b-5ee645a66a12",
   "metadata": {},
   "outputs": [],
   "source": []
  },
  {
   "cell_type": "code",
   "execution_count": null,
   "id": "f4f875e2-795b-444f-959f-ad324d05c303",
   "metadata": {},
   "outputs": [],
   "source": []
  },
  {
   "cell_type": "code",
   "execution_count": null,
   "id": "c0b44f9e-edc0-4c83-abc5-653ae670e8bf",
   "metadata": {},
   "outputs": [],
   "source": []
  },
  {
   "cell_type": "code",
   "execution_count": null,
   "id": "339a33de-f80b-4e24-881d-e8c8a02424d6",
   "metadata": {},
   "outputs": [],
   "source": []
  },
  {
   "cell_type": "code",
   "execution_count": null,
   "id": "9f51ae95-dbe0-4970-865a-2ec8bf265731",
   "metadata": {},
   "outputs": [],
   "source": []
  },
  {
   "cell_type": "code",
   "execution_count": null,
   "id": "0c925c63-e736-40fc-9c32-a74076bb08a8",
   "metadata": {},
   "outputs": [],
   "source": []
  },
  {
   "cell_type": "code",
   "execution_count": null,
   "id": "6c7ba3b7-3e14-4334-a2b4-f83d72be82ee",
   "metadata": {},
   "outputs": [],
   "source": []
  }
 ],
 "metadata": {
  "kernelspec": {
   "display_name": "Python 3 (ipykernel)",
   "language": "python",
   "name": "python3"
  },
  "language_info": {
   "codemirror_mode": {
    "name": "ipython",
    "version": 3
   },
   "file_extension": ".py",
   "mimetype": "text/x-python",
   "name": "python",
   "nbconvert_exporter": "python",
   "pygments_lexer": "ipython3",
   "version": "3.11.7"
  }
 },
 "nbformat": 4,
 "nbformat_minor": 5
}
